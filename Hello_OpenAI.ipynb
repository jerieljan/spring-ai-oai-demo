{
  "nbformat": 4,
  "nbformat_minor": 0,
  "metadata": {
    "colab": {
      "provenance": [],
      "collapsed_sections": [
        "Ytt8zOZHjGnw"
      ]
    },
    "kernelspec": {
      "name": "python3",
      "display_name": "Python 3"
    },
    "language_info": {
      "name": "python"
    }
  },
  "cells": [
    {
      "cell_type": "markdown",
      "source": [
        "# Hello OpenAI (`openai-python`)\n",
        "\n",
        "A very basic example of using OpenAI APIs using Python.\n",
        "\n",
        "Source Presentation: [Click here to view](https://docs.google.com/presentation/d/1bjL_MARtFtuo0yM73MD6gM2e4C0Fr1lE0zUOYVga398/edit?usp=sharing)\n",
        "\n",
        "Try running the code block below using the Run button on the left, or Ctrl+Enter while selecting a code block.\n",
        "\n",
        "\n",
        "\n"
      ],
      "metadata": {
        "id": "uRUPSwjch_1n"
      }
    },
    {
      "cell_type": "code",
      "source": [
        "print(\"Hello world!\")\n",
        "print(\"To those new to Colaboratory, it's a Python notebook service hosted by Google.\")\n",
        "print(\"People use it a lot for anything in general where Python can comfortably run in.\")"
      ],
      "metadata": {
        "colab": {
          "base_uri": "https://localhost:8080/"
        },
        "id": "tj0QdWvKiCZj",
        "outputId": "3b3cdebc-12a9-4709-ceb6-918ae78cc57c"
      },
      "execution_count": 1,
      "outputs": [
        {
          "output_type": "stream",
          "name": "stdout",
          "text": [
            "Hello world!\n",
            "To those new to Colaboratory, it's a Python notebook service hosted by Google.\n",
            "People use it a lot for anything in general where Python can comfortably run in.\n"
          ]
        }
      ]
    },
    {
      "cell_type": "markdown",
      "source": [
        "## Step 1: Install the OpenAI Python package.\n",
        "\n"
      ],
      "metadata": {
        "id": "Sg7Sd_C9jYYf"
      }
    },
    {
      "cell_type": "code",
      "source": [
        "# install from PyPI\n",
        "! pip install -qqq openai"
      ],
      "metadata": {
        "colab": {
          "base_uri": "https://localhost:8080/"
        },
        "id": "1bf0DoMZbGbu",
        "outputId": "e414c6f3-2579-437c-e8c8-b78a870cdeb1"
      },
      "execution_count": 2,
      "outputs": [
        {
          "output_type": "stream",
          "name": "stdout",
          "text": [
            "\u001b[2K     \u001b[90m━━━━━━━━━━━━━━━━━━━━━━━━━━━━━━━━━━━━━━━━\u001b[0m \u001b[32m309.9/309.9 kB\u001b[0m \u001b[31m4.5 MB/s\u001b[0m eta \u001b[36m0:00:00\u001b[0m\n",
            "\u001b[2K     \u001b[90m━━━━━━━━━━━━━━━━━━━━━━━━━━━━━━━━━━━━━━━━\u001b[0m \u001b[32m75.6/75.6 kB\u001b[0m \u001b[31m7.0 MB/s\u001b[0m eta \u001b[36m0:00:00\u001b[0m\n",
            "\u001b[2K     \u001b[90m━━━━━━━━━━━━━━━━━━━━━━━━━━━━━━━━━━━━━━━━\u001b[0m \u001b[32m77.9/77.9 kB\u001b[0m \u001b[31m7.2 MB/s\u001b[0m eta \u001b[36m0:00:00\u001b[0m\n",
            "\u001b[2K     \u001b[90m━━━━━━━━━━━━━━━━━━━━━━━━━━━━━━━━━━━━━━━━\u001b[0m \u001b[32m58.3/58.3 kB\u001b[0m \u001b[31m4.8 MB/s\u001b[0m eta \u001b[36m0:00:00\u001b[0m\n",
            "\u001b[?25h"
          ]
        }
      ]
    },
    {
      "cell_type": "markdown",
      "source": [
        "## Step 2: Let's set things up.\n",
        "\n",
        "- Use the OpenAI package.\n",
        "- Define functions to perform `/chat/completions`\n"
      ],
      "metadata": {
        "id": "Ytt8zOZHjGnw"
      }
    },
    {
      "cell_type": "code",
      "source": [
        "from openai import OpenAI\n",
        "client = OpenAI(\n",
        "    api_key=\"INSERT API KEY HERE\"\n",
        ")\n",
        "chat_model = \"gpt-3.5-turbo\"\n",
        "\n",
        "def gpt_chat_completion(system_prompt, user_prompt):\n",
        "  \"\"\"\n",
        "  Perform chat completion (i.e., a conversational prompt) in OpenAI.\n",
        "\n",
        "  Parameters:\n",
        "  system_prompt: The system prompt to use in the discussion.\n",
        "  user_prompt: The prompt to submit to the model.\n",
        "  \"\"\"\n",
        "\n",
        "  try:\n",
        "    response = client.chat.completions.create (\n",
        "        model = chat_model,\n",
        "        messages = [\n",
        "            {\"role\": \"system\", \"content\": system_prompt},\n",
        "            {\"role\": \"user\", \"content\": user_prompt }\n",
        "        ],\n",
        "        max_tokens=300\n",
        "      # stream=True,\n",
        "    )\n",
        "    print(response.choices[0].message.content)\n",
        "  except Exception as ex:\n",
        "    return f\"Something went wrong. Exception details: {ex}\"\n",
        "\n",
        "def gpt_chat(user_prompt):\n",
        "  gpt_chat_completion(system_prompt = \"You are a helpful assistant. Be precise and concise.\",\n",
        "                      user_prompt = user_prompt)\n",
        "\n",
        "print(\"✅ Functions defined and ready. Just call `gpt_chat(user_prompt)`.\")"
      ],
      "metadata": {
        "colab": {
          "base_uri": "https://localhost:8080/"
        },
        "id": "MlD65hI1bdM_",
        "outputId": "3eb0afcc-52d4-42d4-ff32-06feeaf53015"
      },
      "execution_count": 3,
      "outputs": [
        {
          "output_type": "stream",
          "name": "stdout",
          "text": [
            "✅ Functions defined and ready. Just call `gpt_chat(user_prompt)`.\n"
          ]
        }
      ]
    },
    {
      "cell_type": "markdown",
      "source": [
        "## Step 3: Perform queries to OpenAI\n",
        "\n",
        "- Use the functions we defined and make use of the GPT models.\n",
        "\n",
        "NOTE: Feel free to use your own chat prompts."
      ],
      "metadata": {
        "id": "l1opMIBQjfav"
      }
    },
    {
      "cell_type": "code",
      "source": [
        "# Now let's try to actually perform a query\n",
        "gpt_chat(\"What is a solar eclipse? What is totality?\")"
      ],
      "metadata": {
        "colab": {
          "base_uri": "https://localhost:8080/"
        },
        "id": "GC3kSlFNiW4g",
        "outputId": "3ce67b88-c902-46f8-897d-ab0ec50de582"
      },
      "execution_count": 4,
      "outputs": [
        {
          "output_type": "stream",
          "name": "stdout",
          "text": [
            "A solar eclipse occurs when the moon passes between the sun and the Earth, blocking the sun's light. Totality is the phase of a solar eclipse when the sun is completely covered by the moon, leading to a temporary darkness in the areas under the path of the eclipse.\n"
          ]
        }
      ]
    },
    {
      "cell_type": "code",
      "source": [
        "# You can also use the other function to provide your own system prompt.\n",
        "gpt_chat_completion(system_prompt = \"You are a helpful assistant, but talks like a pirate. Answer the questions, but do so with pirate speak.\",\n",
        "                    user_prompt = \"What is a solar eclipse?\")"
      ],
      "metadata": {
        "colab": {
          "base_uri": "https://localhost:8080/"
        },
        "id": "nCRbTUoskQ0m",
        "outputId": "c8e7529c-7ad6-4c40-fdfa-8c1dafc8e2fd"
      },
      "execution_count": 5,
      "outputs": [
        {
          "output_type": "stream",
          "name": "stdout",
          "text": [
            "Arrr! A solar eclipse be when th' moon passes 'tween th' sun 'n th' Earth, blockin' th' sun's light 'n causin' a temporary darkness on th' Earth. It be a rare sight 'n be a spectacl' t' behold, me hearty!\n"
          ]
        }
      ]
    },
    {
      "cell_type": "code",
      "source": [
        "# @title /v1/chat/completion\n",
        "# @markdown Enter your own prompt below then press Run on the left.\n",
        "\n",
        "system_prompt = \"You are a helpful assistant. Explain like I'm five.\"  # @param {type: \"string\"}\n",
        "message = 'How do I write a hello world in Python?' #@param {type: \"string\"}\n",
        "gpt_chat_completion(system_prompt, message)\n",
        "# @markdown ---\n"
      ],
      "metadata": {
        "colab": {
          "base_uri": "https://localhost:8080/"
        },
        "cellView": "form",
        "id": "IB4tb7exgj0-",
        "outputId": "2ab60d77-a0b1-491d-c69a-7c5ce4564447"
      },
      "execution_count": 6,
      "outputs": [
        {
          "output_type": "stream",
          "name": "stdout",
          "text": [
            "To write a hello world in Python, you can simply use the \"print\" function to print the words \"Hello, World!\" on the screen. Here's the code:\n",
            "\n",
            "```\n",
            "print(\"Hello, World!\")\n",
            "```\n",
            "\n",
            "Just copy this code into a Python script or interpreter and run it to see the message appear on your screen.\n"
          ]
        }
      ]
    },
    {
      "cell_type": "markdown",
      "source": [
        "## Call via REST API (cURL)\n",
        "\n",
        "Of course, you can also make use of the REST API to perform the same things.\n",
        "\n",
        "Just call the `/chat/completions` endpoint with the following information\n",
        "- Your API key `Auth: Bearer`\n",
        "- The same parameters:\n",
        "  - Your preferred `model`\n",
        "  - Your `messages` in JSON."
      ],
      "metadata": {
        "id": "XjRdLAQulSzQ"
      }
    },
    {
      "cell_type": "code",
      "source": [
        "%%bash\n",
        "# Let's provide our API key\n",
        "export OPENAI_API_KEY=INSERT API KEY HERE\n",
        "\n",
        "# Perform cURL\n",
        "curl https://api.openai.com/v1/chat/completions \\\n",
        "  -H \"Content-Type: application/json\" \\\n",
        "  -H \"Authorization: Bearer $OPENAI_API_KEY\" \\\n",
        "  -d '{\n",
        "     \"model\": \"gpt-3.5-turbo\",\n",
        "     \"messages\": [{\"role\": \"user\", \"content\": \"What is a REST API?\"}],\n",
        "     \"max_tokens\": 300\n",
        "   }'"
      ],
      "metadata": {
        "colab": {
          "base_uri": "https://localhost:8080/"
        },
        "id": "IRbfh_ntlUbj",
        "outputId": "2dfa78ff-b699-45ec-e0d9-54d3ead983c3"
      },
      "execution_count": 7,
      "outputs": [
        {
          "output_type": "stream",
          "name": "stdout",
          "text": [
            "{\n",
            "  \"id\": \"chatcmpl-9FFhrMj0zuc8aai5HdXc5F9c4GKMp\",\n",
            "  \"object\": \"chat.completion\",\n",
            "  \"created\": 1713422323,\n",
            "  \"model\": \"gpt-3.5-turbo-0125\",\n",
            "  \"choices\": [\n",
            "    {\n",
            "      \"index\": 0,\n",
            "      \"message\": {\n",
            "        \"role\": \"assistant\",\n",
            "        \"content\": \"A REST API (Representational State Transfer Application Programming Interface) is an architectural style for designing networked applications. It allows communication between different software systems by defining a set of constraints that must be followed. REST APIs typically use standard HTTP methods (GET, POST, PUT, DELETE) and data formats (such as JSON or XML) to perform operations on resources, making it easier for different systems to interact with each other over the web.\"\n",
            "      },\n",
            "      \"logprobs\": null,\n",
            "      \"finish_reason\": \"stop\"\n",
            "    }\n",
            "  ],\n",
            "  \"usage\": {\n",
            "    \"prompt_tokens\": 13,\n",
            "    \"completion_tokens\": 87,\n",
            "    \"total_tokens\": 100\n",
            "  },\n",
            "  \"system_fingerprint\": \"fp_c2295e73ad\"\n",
            "}\n"
          ]
        },
        {
          "output_type": "stream",
          "name": "stderr",
          "text": [
            "  % Total    % Received % Xferd  Average Speed   Time    Time     Time  Current\n",
            "                                 Dload  Upload   Total   Spent    Left  Speed\n",
            "\r  0     0    0     0    0     0      0      0 --:--:-- --:--:-- --:--:--     0\r100   131    0     0  100   131      0    108  0:00:01  0:00:01 --:--:--   108\r 12  1077    0     0  100   131      0     59  0:00:02  0:00:02 --:--:--    59\r100  1077  100   946  100   131    429     59  0:00:02  0:00:02 --:--:--   488\n"
          ]
        }
      ]
    },
    {
      "cell_type": "markdown",
      "source": [
        "# Recommended Reading\n",
        "\n",
        "- https://github.com/openai/openai-python\n",
        "- https://cookbook.openai.com/"
      ],
      "metadata": {
        "id": "3juOkrCy2m9K"
      }
    }
  ]
}